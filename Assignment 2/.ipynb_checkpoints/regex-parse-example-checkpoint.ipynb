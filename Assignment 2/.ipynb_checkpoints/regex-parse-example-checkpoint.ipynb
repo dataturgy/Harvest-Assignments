{
 "cells": [
  {
   "cell_type": "code",
   "execution_count": null,
   "metadata": {},
   "outputs": [],
   "source": [
    "import re \n",
    "prog = re.compile(\"(\\d+\\.\\d+\\.\\d+\\.\\d+) .*\")\n",
    "\n",
    "with open('log-0-100.txt', 'r') as fp:\n",
    "    for line in fp: \n",
    "        result = prog.match(line)\n",
    "        if result is not None: \n",
    "            print(result.group(1))"
   ]
  }
 ],
 "metadata": {
  "kernelspec": {
   "display_name": "Python 3",
   "language": "python",
   "name": "python3"
  },
  "language_info": {
   "codemirror_mode": {
    "name": "ipython",
    "version": 3
   },
   "file_extension": ".py",
   "mimetype": "text/x-python",
   "name": "python",
   "nbconvert_exporter": "python",
   "pygments_lexer": "ipython3",
   "version": "3.7.3"
  }
 },
 "nbformat": 4,
 "nbformat_minor": 2
}
